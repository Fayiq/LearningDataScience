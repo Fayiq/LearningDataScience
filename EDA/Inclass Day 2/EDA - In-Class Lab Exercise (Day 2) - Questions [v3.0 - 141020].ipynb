{
 "cells": [
  {
   "cell_type": "markdown",
   "metadata": {},
   "source": [
    "<table align=\"center\" width=100%>\n",
    "    <tr>\n",
    "        <td width=\"15%\">\n",
    "            <img src=\"in_class.png\">\n",
    "        </td>\n",
    "        <td>\n",
    "            <div align=\"center\">\n",
    "                <font color=\"#21618C\" size=8px>\n",
    "                    <b> Inclass - Lab <br>(Day 2)\n",
    "                    </b>\n",
    "                </font>\n",
    "            </div>\n",
    "        </td>\n",
    "    </tr>\n",
    "</table>"
   ]
  },
  {
   "cell_type": "markdown",
   "metadata": {},
   "source": [
    "### About the dataset (Health Insurance Data)\n",
    "\n",
    "The dataset contains information about 1300 individuals regarding insurance charges. The data contains an individual's basic information like age, sex, bmi, the region of residence and so on. \n",
    "\n",
    "Attribute Information:\n",
    "\n",
    "**age**: Age of the individual\n",
    "\n",
    "**gender**: Gender of the individual\n",
    "\n",
    "**bmi**: Body mass index of the individual\n",
    "\n",
    "**bp**: Systolic blood pressure in mm/hg\n",
    "\n",
    "**children**: Number of children of the individual\n",
    "\n",
    "**smoker**: Individual is smoker or not\n",
    "\n",
    "**region**: Individual's region of residence\n",
    "\n",
    "**medical_cost**: Individual's medical costs billed by the insurance company"
   ]
  },
  {
   "cell_type": "markdown",
   "metadata": {},
   "source": [
    "##  Table of Content\n",
    "\n",
    "1. **[Univariate Analysis](#uni)**\n",
    "2. **[Multivariate Analysis](#multi)**\n",
    "3. **[Handle Non-Numeric Data](#cat)**\n",
    "4. **[Normalization](#norm)**\n",
    "5. **[Transformation Techniques](#trans)**"
   ]
  },
  {
   "cell_type": "markdown",
   "metadata": {},
   "source": [
    "**Import the required libraries**"
   ]
  },
  {
   "cell_type": "code",
   "execution_count": 1,
   "metadata": {},
   "outputs": [],
   "source": [
    "# import your code here\n",
    "import numpy as np\n",
    "import pandas as pd\n",
    "import matplotlib.pyplot as plt\n",
    "import seaborn as sns\n",
    "sns.set_style(\"whitegrid\")\n",
    "from sklearn.preprocessing import MinMaxScaler\n",
    "from scipy.stats import zscore"
   ]
  },
  {
   "cell_type": "markdown",
   "metadata": {},
   "source": [
    "#### Load the health insurance dataset and check the first five observations"
   ]
  },
  {
   "cell_type": "code",
   "execution_count": 2,
   "metadata": {},
   "outputs": [
    {
     "data": {
      "text/html": [
       "<div>\n",
       "<style scoped>\n",
       "    .dataframe tbody tr th:only-of-type {\n",
       "        vertical-align: middle;\n",
       "    }\n",
       "\n",
       "    .dataframe tbody tr th {\n",
       "        vertical-align: top;\n",
       "    }\n",
       "\n",
       "    .dataframe thead th {\n",
       "        text-align: right;\n",
       "    }\n",
       "</style>\n",
       "<table border=\"1\" class=\"dataframe\">\n",
       "  <thead>\n",
       "    <tr style=\"text-align: right;\">\n",
       "      <th></th>\n",
       "      <th>age</th>\n",
       "      <th>gender</th>\n",
       "      <th>bmi</th>\n",
       "      <th>bp</th>\n",
       "      <th>children</th>\n",
       "      <th>region</th>\n",
       "      <th>smoker</th>\n",
       "      <th>medical_cost</th>\n",
       "    </tr>\n",
       "  </thead>\n",
       "  <tbody>\n",
       "    <tr>\n",
       "      <th>0</th>\n",
       "      <td>23</td>\n",
       "      <td>M</td>\n",
       "      <td>31.900</td>\n",
       "      <td>157</td>\n",
       "      <td>0</td>\n",
       "      <td>southwest</td>\n",
       "      <td>smoker</td>\n",
       "      <td>16884.92400</td>\n",
       "    </tr>\n",
       "    <tr>\n",
       "      <th>1</th>\n",
       "      <td>20</td>\n",
       "      <td>F</td>\n",
       "      <td>36.770</td>\n",
       "      <td>160</td>\n",
       "      <td>1</td>\n",
       "      <td>southeast</td>\n",
       "      <td>non-smoker</td>\n",
       "      <td>1725.55230</td>\n",
       "    </tr>\n",
       "    <tr>\n",
       "      <th>2</th>\n",
       "      <td>33</td>\n",
       "      <td>F</td>\n",
       "      <td>35.000</td>\n",
       "      <td>145</td>\n",
       "      <td>3</td>\n",
       "      <td>southeast</td>\n",
       "      <td>non-smoker</td>\n",
       "      <td>4449.46200</td>\n",
       "    </tr>\n",
       "    <tr>\n",
       "      <th>3</th>\n",
       "      <td>37</td>\n",
       "      <td>F</td>\n",
       "      <td>23.705</td>\n",
       "      <td>153</td>\n",
       "      <td>0</td>\n",
       "      <td>northwest</td>\n",
       "      <td>non-smoker</td>\n",
       "      <td>21984.47061</td>\n",
       "    </tr>\n",
       "    <tr>\n",
       "      <th>4</th>\n",
       "      <td>36</td>\n",
       "      <td>F</td>\n",
       "      <td>27.880</td>\n",
       "      <td>156</td>\n",
       "      <td>0</td>\n",
       "      <td>northwest</td>\n",
       "      <td>non-smoker</td>\n",
       "      <td>3866.85520</td>\n",
       "    </tr>\n",
       "  </tbody>\n",
       "</table>\n",
       "</div>"
      ],
      "text/plain": [
       "   age gender     bmi  bp   children     region      smoker  medical_cost\n",
       "0   23      M  31.900  157         0  southwest      smoker   16884.92400\n",
       "1   20      F  36.770  160         1  southeast  non-smoker    1725.55230\n",
       "2   33      F  35.000  145         3  southeast  non-smoker    4449.46200\n",
       "3   37      F  23.705  153         0  northwest  non-smoker   21984.47061\n",
       "4   36      F  27.880  156         0  northwest  non-smoker    3866.85520"
      ]
     },
     "execution_count": 2,
     "metadata": {},
     "output_type": "execute_result"
    }
   ],
   "source": [
    "# import your code here\n",
    "hi = pd.read_csv('health_insurance.csv')\n",
    "hi.head()"
   ]
  },
  {
   "cell_type": "markdown",
   "metadata": {},
   "source": [
    "### Let's begin with some hands-on practice exercises"
   ]
  },
  {
   "cell_type": "markdown",
   "metadata": {},
   "source": [
    "<a id=\"uni\"> </a>\n",
    "## 1. Univariate Analysis"
   ]
  },
  {
   "cell_type": "markdown",
   "metadata": {
    "collapsed": true
   },
   "source": [
    "<table align=\"left\">\n",
    "    <tr>\n",
    "        <td width=\"6%\">\n",
    "            <img src=\"question_icon.png\">\n",
    "        </td>\n",
    "        <td>\n",
    "            <div align=\"left\", style=\"font-size:120%\">\n",
    "                <font color=\"#21618C\">\n",
    "                    <b>1. Are there any extreme observations present in 'bmi'? Support your answer with a plot\n",
    "</b>\n",
    "                </font>\n",
    "            </div>\n",
    "        </td>\n",
    "    </tr>\n",
    "</table>"
   ]
  },
  {
   "cell_type": "code",
   "execution_count": 4,
   "metadata": {},
   "outputs": [
    {
     "data": {
      "image/png": "[encoded data removed]",
      "text/plain": [
       "<Figure size 560x400 with 1 Axes>"
      ]
     },
     "metadata": {},
     "output_type": "display_data"
    },
    {
     "name": "stdout",
     "output_type": "stream",
     "text": [
      "The skew value of BMI is :  0.2496769760401315\n",
      "Yes, there are extreme values in BMI as the curve shown above has skewed on both the ends\n"
     ]
    }
   ],
   "source": [
    "# import your code here\n",
    "plt.figure(figsize = (7,5),dpi = 80)\n",
    "sns.distplot(hi['bmi'])\n",
    "plt.title('Distplot of bmi')\n",
    "plt.xlabel('BMI')\n",
    "plt.show()\n",
    "print('The skew value of BMI is : ',hi['bmi'].skew())\n",
    "print('Yes, there are extreme values in BMI as the curve shown above has skewed on both the ends')"
   ]
  },
  {
   "cell_type": "markdown",
   "metadata": {
    "collapsed": true
   },
   "source": [
    "<table align=\"left\">\n",
    "    <tr>\n",
    "        <td width=\"6%\">\n",
    "            <img src=\"question_icon.png\">\n",
    "        </td>\n",
    "        <td>\n",
    "            <div align=\"left\", style=\"font-size:120%\">\n",
    "                <font color=\"#21618C\">\n",
    "                    <b>2. Is the variable 'age' skewed? Support your answer with a plot and metric</b>\n",
    "                </font>\n",
    "            </div>\n",
    "        </td>\n",
    "    </tr>\n",
    "</table>"
   ]
  },
  {
   "cell_type": "code",
   "execution_count": 5,
   "metadata": {},
   "outputs": [
    {
     "name": "stdout",
     "output_type": "stream",
     "text": [
      "The skew value of age is :  0.04359793424360781\n"
     ]
    },
    {
     "data": {
      "image/png": "[encoded data removed]",
      "text/plain": [
       "<Figure size 560x400 with 1 Axes>"
      ]
     },
     "metadata": {},
     "output_type": "display_data"
    },
    {
     "name": "stdout",
     "output_type": "stream",
     "text": [
      "Since the value of the skew is closer to 0, Age is not skewed\n"
     ]
    }
   ],
   "source": [
    "# import your code here\n",
    "print('The skew value of age is : ', hi['age'].skew())\n",
    "plt.figure(figsize = (7,5),dpi = 80)\n",
    "sns.distplot(hi['age'])\n",
    "plt.title('Distplot of Age')\n",
    "plt.xlabel('AGE')\n",
    "plt.show()\n",
    "print('Since the value of the skew is closer to 0, Age is not skewed')"
   ]
  },
  {
   "cell_type": "markdown",
   "metadata": {
    "collapsed": true
   },
   "source": [
    "<table align=\"left\">\n",
    "    <tr>\n",
    "        <td width=\"6%\">\n",
    "            <img src=\"question_icon.png\">\n",
    "        </td>\n",
    "        <td>\n",
    "            <div align=\"left\", style=\"font-size:120%\">\n",
    "                <font color=\"#21618C\">\n",
    "                    <b>3. What is the probability that the individuals have charged less than 25k for medical treatment? Support your answer with the plot</b>\n",
    "                </font>\n",
    "            </div>\n",
    "        </td>\n",
    "    </tr>\n",
    "</table>"
   ]
  },
  {
   "cell_type": "code",
   "execution_count": 6,
   "metadata": {},
   "outputs": [
    {
     "data": {
      "image/png": "[encoded data removed]",
      "text/plain": [
       "<Figure size 560x400 with 1 Axes>"
      ]
     },
     "metadata": {},
     "output_type": "display_data"
    }
   ],
   "source": [
    "# import your code here\n",
    "plt.figure(figsize = (7,5),dpi = 80)\n",
    "sns.kdeplot(hi['medical_cost'], cumulative = True)\n",
    "plt.axvline(25000)\n",
    "plt.show()"
   ]
  },
  {
   "cell_type": "markdown",
   "metadata": {
    "collapsed": true
   },
   "source": [
    "<table align=\"left\">\n",
    "    <tr>\n",
    "        <td width=\"6%\">\n",
    "            <img src=\"question_icon.png\">\n",
    "        </td>\n",
    "        <td>\n",
    "            <div align=\"left\", style=\"font-size:120%\">\n",
    "                <font color=\"#21618C\">\n",
    "                    <b>4. Draw the line for mean and median on the distribution plot and identify the type of skewness for BMI</b>\n",
    "                </font>\n",
    "            </div>\n",
    "        </td>\n",
    "    </tr>\n",
    "</table>"
   ]
  },
  {
   "cell_type": "code",
   "execution_count": 7,
   "metadata": {},
   "outputs": [
    {
     "name": "stdout",
     "output_type": "stream",
     "text": [
      "The mean of BMI is :  31.581396153846132\n",
      "The median of BMI is :  31.645\n",
      "The skew of BMI is:  0.2496769760401315\n"
     ]
    },
    {
     "data": {
      "image/png": "[encoded data removed]",
      "text/plain": [
       "<Figure size 560x400 with 1 Axes>"
      ]
     },
     "metadata": {},
     "output_type": "display_data"
    }
   ],
   "source": [
    "# import your code here\n",
    "mean = hi['bmi'].mean()\n",
    "median = hi['bmi'].median()\n",
    "print('The mean of BMI is : ',mean)\n",
    "print('The median of BMI is : ',median)\n",
    "sk = hi['bmi'].skew()\n",
    "print('The skew of BMI is: ',sk)\n",
    "plt.figure(figsize = (7,5),dpi = 80)\n",
    "sns.distplot(hi['bmi'])\n",
    "plt.axvline(mean, label = 'mean', color = 'red')\n",
    "plt.axvline(median, label = 'median', color = 'green')\n",
    "plt.title('Skweness of BMI')\n",
    "plt.legend()\n",
    "plt.show()"
   ]
  },
  {
   "cell_type": "markdown",
   "metadata": {},
   "source": [
    "From the above plot it is visible that BMI is a symetrical distribution"
   ]
  },
  {
   "cell_type": "markdown",
   "metadata": {
    "collapsed": true
   },
   "source": [
    "\n",
    "<table align=\"left\">\n",
    "    <tr>\n",
    "        <td width=\"6%\">\n",
    "            <img src=\"question_icon.png\">\n",
    "        </td>\n",
    "        <td>\n",
    "            <div align=\"left\", style=\"font-size:120%\">\n",
    "                <font color=\"#21618C\">\n",
    "                    <b>5. Visualize the distribution of medical cost using violin plot and describe its distribution</b>\n",
    "                </font>\n",
    "            </div>\n",
    "        </td>\n",
    "    </tr>\n",
    "</table>"
   ]
  },
  {
   "cell_type": "code",
   "execution_count": 8,
   "metadata": {},
   "outputs": [
    {
     "data": {
      "image/png": "[encoded data removed]",
      "text/plain": [
       "<Figure size 700x500 with 1 Axes>"
      ]
     },
     "metadata": {},
     "output_type": "display_data"
    }
   ],
   "source": [
    "# import your code here\n",
    "plt.figure(figsize = (7,5), dpi = 100)\n",
    "sns.violinplot(hi['medical_cost'])\n",
    "plt.title('Distribution of Medical cost using Violin Plot')\n",
    "plt.show()"
   ]
  },
  {
   "cell_type": "markdown",
   "metadata": {},
   "source": [
    "From the above Voilin Plot it is seen that Meical Cost is highly skewed toward the right having a lot of outlier towards the right"
   ]
  },
  {
   "cell_type": "markdown",
   "metadata": {},
   "source": [
    "<a id=\"multi\"> </a>\n",
    "## 2. Multivariate Analysis"
   ]
  },
  {
   "cell_type": "markdown",
   "metadata": {
    "collapsed": true
   },
   "source": [
    "<table align=\"left\">\n",
    "    <tr>\n",
    "        <td width=\"6%\">\n",
    "            <img src=\"question_icon.png\">\n",
    "        </td>\n",
    "        <td>\n",
    "            <div align=\"left\", style=\"font-size:120%\">\n",
    "                <font color=\"#21618C\">\n",
    "                    <b>6. Is there any individual with age less than 30 and meadical cost greater than 40k?\n",
    "</b>\n",
    "                </font>\n",
    "            </div>\n",
    "        </td>\n",
    "    </tr>\n",
    "</table>"
   ]
  },
  {
   "cell_type": "code",
   "execution_count": 9,
   "metadata": {},
   "outputs": [
    {
     "data": {
      "image/png": "[encoded data removed]",
      "text/plain": [
       "<Figure size 560x400 with 1 Axes>"
      ]
     },
     "metadata": {},
     "output_type": "display_data"
    }
   ],
   "source": [
    "plt.figure(figsize = (7,5),dpi = 80)\n",
    "plt.scatter(hi['age'],hi['medical_cost'])\n",
    "plt.xlabel('Age')\n",
    "plt.ylabel('Medical Cost')\n",
    "plt.show()"
   ]
  },
  {
   "cell_type": "code",
   "execution_count": 10,
   "metadata": {},
   "outputs": [
    {
     "data": {
      "text/html": [
       "<div>\n",
       "<style scoped>\n",
       "    .dataframe tbody tr th:only-of-type {\n",
       "        vertical-align: middle;\n",
       "    }\n",
       "\n",
       "    .dataframe tbody tr th {\n",
       "        vertical-align: top;\n",
       "    }\n",
       "\n",
       "    .dataframe thead th {\n",
       "        text-align: right;\n",
       "    }\n",
       "</style>\n",
       "<table border=\"1\" class=\"dataframe\">\n",
       "  <thead>\n",
       "    <tr style=\"text-align: right;\">\n",
       "      <th></th>\n",
       "      <th>age</th>\n",
       "      <th>gender</th>\n",
       "      <th>bmi</th>\n",
       "      <th>bp</th>\n",
       "      <th>children</th>\n",
       "      <th>region</th>\n",
       "      <th>smoker</th>\n",
       "      <th>medical_cost</th>\n",
       "    </tr>\n",
       "  </thead>\n",
       "  <tbody>\n",
       "    <tr>\n",
       "      <th>254</th>\n",
       "      <td>26</td>\n",
       "      <td>F</td>\n",
       "      <td>47.54</td>\n",
       "      <td>156</td>\n",
       "      <td>2</td>\n",
       "      <td>northeast</td>\n",
       "      <td>smoker</td>\n",
       "      <td>42112.2356</td>\n",
       "    </tr>\n",
       "    <tr>\n",
       "      <th>1009</th>\n",
       "      <td>25</td>\n",
       "      <td>F</td>\n",
       "      <td>55.58</td>\n",
       "      <td>152</td>\n",
       "      <td>1</td>\n",
       "      <td>northeast</td>\n",
       "      <td>smoker</td>\n",
       "      <td>44501.3982</td>\n",
       "    </tr>\n",
       "    <tr>\n",
       "      <th>1086</th>\n",
       "      <td>26</td>\n",
       "      <td>M</td>\n",
       "      <td>41.75</td>\n",
       "      <td>152</td>\n",
       "      <td>1</td>\n",
       "      <td>northeast</td>\n",
       "      <td>smoker</td>\n",
       "      <td>40904.1995</td>\n",
       "    </tr>\n",
       "  </tbody>\n",
       "</table>\n",
       "</div>"
      ],
      "text/plain": [
       "      age gender    bmi  bp   children     region  smoker  medical_cost\n",
       "254    26      F  47.54  156         2  northeast  smoker    42112.2356\n",
       "1009   25      F  55.58  152         1  northeast  smoker    44501.3982\n",
       "1086   26      M  41.75  152         1  northeast  smoker    40904.1995"
      ]
     },
     "execution_count": 10,
     "metadata": {},
     "output_type": "execute_result"
    }
   ],
   "source": [
    "hi[(hi['age'] < 30) & (hi['medical_cost'] > 40000)]"
   ]
  },
  {
   "cell_type": "markdown",
   "metadata": {},
   "source": [
    "From the above plot it is visible that there are people less than the age of 30 having medical cost more than 30k"
   ]
  },
  {
   "cell_type": "markdown",
   "metadata": {
    "collapsed": true
   },
   "source": [
    "<table align=\"left\">\n",
    "    <tr>\n",
    "        <td width=\"6%\">\n",
    "            <img src=\"question_icon.png\">\n",
    "        </td>\n",
    "        <td>\n",
    "            <div align=\"left\", style=\"font-size:120%\">\n",
    "                <font color=\"#21618C\">\n",
    "                    <b>7. Does the scatter plot of BMI and medical cost reveal potential outliers?</b>\n",
    "                </font>\n",
    "            </div>\n",
    "        </td>\n",
    "    </tr>\n",
    "</table>"
   ]
  },
  {
   "cell_type": "code",
   "execution_count": 11,
   "metadata": {},
   "outputs": [
    {
     "data": {
      "image/png": "[encoded data removed]",
      "text/plain": [
       "<Figure size 560x400 with 1 Axes>"
      ]
     },
     "metadata": {},
     "output_type": "display_data"
    }
   ],
   "source": [
    "# import your code here\n",
    "plt.figure(figsize = (7,5),dpi = 80)\n",
    "plt.scatter(hi['bmi'],hi['medical_cost'])\n",
    "plt.xlabel('BMI')\n",
    "plt.ylabel('Medical Cost')\n",
    "plt.show()"
   ]
  },
  {
   "cell_type": "markdown",
   "metadata": {},
   "source": [
    "yes from the above scatter plot for BMI and Medical cost we see that there are outliers in the plot"
   ]
  },
  {
   "cell_type": "markdown",
   "metadata": {
    "collapsed": true
   },
   "source": [
    "<table align=\"left\">\n",
    "    <tr>\n",
    "        <td width=\"6%\">\n",
    "            <img src=\"question_icon.png\">\n",
    "        </td>\n",
    "        <td>\n",
    "            <div align=\"left\", style=\"font-size:120%\">\n",
    "                <font color=\"#21618C\">\n",
    "                    <b>8. Determine the percentage variation in BMI for males and females\n",
    "\n",
    "</b>\n",
    "                </font>\n",
    "            </div>\n",
    "        </td>\n",
    "    </tr>\n",
    "</table>"
   ]
  },
  {
   "cell_type": "code",
   "execution_count": 12,
   "metadata": {},
   "outputs": [
    {
     "name": "stdout",
     "output_type": "stream",
     "text": [
      "The below data shows the percentage of variation in BMI for both the genders\n"
     ]
    },
    {
     "data": {
      "text/plain": [
       "gender\n",
       "F    20.120029\n",
       "M    20.118324\n",
       "Name: bmi, dtype: float64"
      ]
     },
     "execution_count": 12,
     "metadata": {},
     "output_type": "execute_result"
    }
   ],
   "source": [
    "# import your code here\n",
    "print('The below data shows the percentage of variation in BMI for both the genders')\n",
    "(hi.groupby('gender')['bmi'].std() / hi.groupby('gender')['bmi'].mean()) * 100"
   ]
  },
  {
   "cell_type": "markdown",
   "metadata": {
    "collapsed": true
   },
   "source": [
    "<table align=\"left\">\n",
    "    <tr>\n",
    "        <td width=\"6%\">\n",
    "            <img src=\"question_icon.png\">\n",
    "        </td>\n",
    "        <td>\n",
    "            <div align=\"left\", style=\"font-size:120%\">\n",
    "                <font color=\"#21618C\">\n",
    "                    <b>9. Which region has the highest number of males?\n",
    "</b>\n",
    "                </font>\n",
    "            </div>\n",
    "        </td>\n",
    "    </tr>\n",
    "</table>"
   ]
  },
  {
   "cell_type": "code",
   "execution_count": 13,
   "metadata": {},
   "outputs": [
    {
     "data": {
      "text/html": [
       "<div>\n",
       "<style scoped>\n",
       "    .dataframe tbody tr th:only-of-type {\n",
       "        vertical-align: middle;\n",
       "    }\n",
       "\n",
       "    .dataframe tbody tr th {\n",
       "        vertical-align: top;\n",
       "    }\n",
       "\n",
       "    .dataframe thead th {\n",
       "        text-align: right;\n",
       "    }\n",
       "</style>\n",
       "<table border=\"1\" class=\"dataframe\">\n",
       "  <thead>\n",
       "    <tr style=\"text-align: right;\">\n",
       "      <th>region</th>\n",
       "      <th>northeast</th>\n",
       "      <th>northwest</th>\n",
       "      <th>southeast</th>\n",
       "      <th>southwest</th>\n",
       "    </tr>\n",
       "    <tr>\n",
       "      <th>gender</th>\n",
       "      <th></th>\n",
       "      <th></th>\n",
       "      <th></th>\n",
       "      <th></th>\n",
       "    </tr>\n",
       "  </thead>\n",
       "  <tbody>\n",
       "    <tr>\n",
       "      <th>F</th>\n",
       "      <td>174</td>\n",
       "      <td>149</td>\n",
       "      <td>178</td>\n",
       "      <td>156</td>\n",
       "    </tr>\n",
       "    <tr>\n",
       "      <th>M</th>\n",
       "      <td>141</td>\n",
       "      <td>166</td>\n",
       "      <td>178</td>\n",
       "      <td>158</td>\n",
       "    </tr>\n",
       "  </tbody>\n",
       "</table>\n",
       "</div>"
      ],
      "text/plain": [
       "region  northeast  northwest  southeast  southwest\n",
       "gender                                            \n",
       "F             174        149        178        156\n",
       "M             141        166        178        158"
      ]
     },
     "execution_count": 13,
     "metadata": {},
     "output_type": "execute_result"
    }
   ],
   "source": [
    "# import your code here\n",
    "u = pd.crosstab(hi['gender'],hi['region'])\n",
    "u"
   ]
  },
  {
   "cell_type": "markdown",
   "metadata": {
    "collapsed": true
   },
   "source": [
    "<table align=\"left\">\n",
    "    <tr>\n",
    "        <td width=\"6%\">\n",
    "            <img src=\"question_icon.png\">\n",
    "        </td>\n",
    "        <td>\n",
    "            <div align=\"left\", style=\"font-size:120%\">\n",
    "                <font color=\"#21618C\">\n",
    "                    <b>10. Analyze the pairwise relationship between the numeric variables\n",
    "</b>\n",
    "                </font>\n",
    "            </div>\n",
    "        </td>\n",
    "    </tr>\n",
    "</table>"
   ]
  },
  {
   "cell_type": "code",
   "execution_count": 14,
   "metadata": {},
   "outputs": [
    {
     "data": {
      "text/plain": [
       "<matplotlib.axes._subplots.AxesSubplot at 0x17e635859c8>"
      ]
     },
     "execution_count": 14,
     "metadata": {},
     "output_type": "execute_result"
    },
    {
     "data": {
      "image/png": "[encoded data removed]",
      "text/plain": [
       "<Figure size 432x288 with 2 Axes>"
      ]
     },
     "metadata": {},
     "output_type": "display_data"
    }
   ],
   "source": [
    "# import your code here\n",
    "x= hi.corr()\n",
    "sns.heatmap(x)"
   ]
  },
  {
   "cell_type": "markdown",
   "metadata": {
    "collapsed": true
   },
   "source": [
    "<table align=\"left\">\n",
    "    <tr>\n",
    "        <td width=\"6%\">\n",
    "            <img src=\"question_icon.png\">\n",
    "        </td>\n",
    "        <td>\n",
    "            <div align=\"left\", style=\"font-size:120%\">\n",
    "                <font color=\"#21618C\">\n",
    "                    <b>11. Are the medical costs affected by an individual's smoking habits?</b>\n",
    "                </font>\n",
    "            </div>\n",
    "        </td>\n",
    "    </tr>\n",
    "</table>"
   ]
  },
  {
   "cell_type": "code",
   "execution_count": 15,
   "metadata": {},
   "outputs": [
    {
     "data": {
      "image/png": "[encoded data removed]",
      "text/plain": [
       "<Figure size 560x400 with 1 Axes>"
      ]
     },
     "metadata": {},
     "output_type": "display_data"
    },
    {
     "name": "stdout",
     "output_type": "stream",
     "text": [
      "From the above plot it is visible that the people who smoke have a higher medical cost\n"
     ]
    }
   ],
   "source": [
    "# import your code here\n",
    "plt.figure(figsize = (7,5), dpi = 80)\n",
    "sns.barplot(x=hi['smoker'], y=hi['medical_cost'])\n",
    "plt.show()\n",
    "print('From the above plot it is visible that the people who smoke have a higher medical cost')"
   ]
  },
  {
   "cell_type": "markdown",
   "metadata": {
    "collapsed": true
   },
   "source": [
    "<table align=\"left\">\n",
    "    <tr>\n",
    "        <td width=\"6%\">\n",
    "            <img src=\"question_icon.png\">\n",
    "        </td>\n",
    "        <td>\n",
    "            <div align=\"left\", style=\"font-size:120%\">\n",
    "                <font color=\"#21618C\">\n",
    "                    <b>12. Check if the region of residence and age of the individuals have an impact on the medical cost? </b>\n",
    "                </font>\n",
    "            </div>\n",
    "        </td>\n",
    "    </tr>\n",
    "</table>"
   ]
  },
  {
   "cell_type": "code",
   "execution_count": 12,
   "metadata": {},
   "outputs": [
    {
     "data": {
      "text/plain": [
       "<Figure size 1000x700 with 0 Axes>"
      ]
     },
     "metadata": {},
     "output_type": "display_data"
    },
    {
     "data": {
      "image/png": "[encoded data removed]",
      "text/plain": [
       "<Figure size 1440x360 with 4 Axes>"
      ]
     },
     "metadata": {},
     "output_type": "display_data"
    }
   ],
   "source": [
    "# import your code here\n",
    "plt.figure(figsize = (10,7),dpi = 100)\n",
    "sns.lmplot(x = 'age',y = 'medical_cost',data = hi, col = 'region')\n",
    "plt.show()"
   ]
  },
  {
   "cell_type": "markdown",
   "metadata": {},
   "source": [
    "<a id=\"cat\"> </a>\n",
    "## 3. Handle Non-Numeric Data"
   ]
  },
  {
   "cell_type": "markdown",
   "metadata": {
    "collapsed": true
   },
   "source": [
    "<table align=\"left\">\n",
    "    <tr>\n",
    "        <td width=\"6%\">\n",
    "            <img src=\"question_icon.png\">\n",
    "        </td>\n",
    "        <td>\n",
    "            <div align=\"left\", style=\"font-size:120%\">\n",
    "                <font color=\"#21618C\">\n",
    "                    <b>13. Create a dummy variable for each category in 'region' \n",
    " </b>\n",
    "                </font>\n",
    "            </div>\n",
    "        </td>\n",
    "    </tr>\n",
    "</table>"
   ]
  },
  {
   "cell_type": "code",
   "execution_count": 25,
   "metadata": {},
   "outputs": [
    {
     "data": {
      "text/html": [
       "<div>\n",
       "<style scoped>\n",
       "    .dataframe tbody tr th:only-of-type {\n",
       "        vertical-align: middle;\n",
       "    }\n",
       "\n",
       "    .dataframe tbody tr th {\n",
       "        vertical-align: top;\n",
       "    }\n",
       "\n",
       "    .dataframe thead th {\n",
       "        text-align: right;\n",
       "    }\n",
       "</style>\n",
       "<table border=\"1\" class=\"dataframe\">\n",
       "  <thead>\n",
       "    <tr style=\"text-align: right;\">\n",
       "      <th></th>\n",
       "      <th>northeast</th>\n",
       "      <th>northwest</th>\n",
       "      <th>southeast</th>\n",
       "      <th>southwest</th>\n",
       "    </tr>\n",
       "  </thead>\n",
       "  <tbody>\n",
       "    <tr>\n",
       "      <th>0</th>\n",
       "      <td>0</td>\n",
       "      <td>0</td>\n",
       "      <td>0</td>\n",
       "      <td>1</td>\n",
       "    </tr>\n",
       "    <tr>\n",
       "      <th>1</th>\n",
       "      <td>0</td>\n",
       "      <td>0</td>\n",
       "      <td>1</td>\n",
       "      <td>0</td>\n",
       "    </tr>\n",
       "    <tr>\n",
       "      <th>2</th>\n",
       "      <td>0</td>\n",
       "      <td>0</td>\n",
       "      <td>1</td>\n",
       "      <td>0</td>\n",
       "    </tr>\n",
       "    <tr>\n",
       "      <th>3</th>\n",
       "      <td>0</td>\n",
       "      <td>1</td>\n",
       "      <td>0</td>\n",
       "      <td>0</td>\n",
       "    </tr>\n",
       "    <tr>\n",
       "      <th>4</th>\n",
       "      <td>0</td>\n",
       "      <td>1</td>\n",
       "      <td>0</td>\n",
       "      <td>0</td>\n",
       "    </tr>\n",
       "  </tbody>\n",
       "</table>\n",
       "</div>"
      ],
      "text/plain": [
       "   northeast  northwest  southeast  southwest\n",
       "0          0          0          0          1\n",
       "1          0          0          1          0\n",
       "2          0          0          1          0\n",
       "3          0          1          0          0\n",
       "4          0          1          0          0"
      ]
     },
     "execution_count": 25,
     "metadata": {},
     "output_type": "execute_result"
    }
   ],
   "source": [
    "# import your code here\n",
    "pd.get_dummies(hi['region']).head()"
   ]
  },
  {
   "cell_type": "markdown",
   "metadata": {
    "collapsed": true
   },
   "source": [
    "<table align=\"left\">\n",
    "    <tr>\n",
    "        <td width=\"6%\">\n",
    "            <img src=\"question_icon.png\">\n",
    "        </td>\n",
    "        <td>\n",
    "            <div align=\"left\", style=\"font-size:120%\">\n",
    "                <font color=\"#21618C\">\n",
    "                    <b>14. Create a variable 'smoker_label' containing unique label for each category in the variable 'smoker'\n",
    "</b>\n",
    "                </font>\n",
    "            </div>\n",
    "        </td>\n",
    "    </tr>\n",
    "</table>"
   ]
  },
  {
   "cell_type": "code",
   "execution_count": 28,
   "metadata": {},
   "outputs": [],
   "source": [
    "# import your code here\n",
    "from sklearn.preprocessing import LabelEncoder\n",
    "le = LabelEncoder()"
   ]
  },
  {
   "cell_type": "code",
   "execution_count": 30,
   "metadata": {},
   "outputs": [
    {
     "data": {
      "text/html": [
       "<div>\n",
       "<style scoped>\n",
       "    .dataframe tbody tr th:only-of-type {\n",
       "        vertical-align: middle;\n",
       "    }\n",
       "\n",
       "    .dataframe tbody tr th {\n",
       "        vertical-align: top;\n",
       "    }\n",
       "\n",
       "    .dataframe thead th {\n",
       "        text-align: right;\n",
       "    }\n",
       "</style>\n",
       "<table border=\"1\" class=\"dataframe\">\n",
       "  <thead>\n",
       "    <tr style=\"text-align: right;\">\n",
       "      <th></th>\n",
       "      <th>age</th>\n",
       "      <th>gender</th>\n",
       "      <th>bmi</th>\n",
       "      <th>bp</th>\n",
       "      <th>children</th>\n",
       "      <th>region</th>\n",
       "      <th>smoker</th>\n",
       "      <th>medical_cost</th>\n",
       "      <th>MMBMI</th>\n",
       "      <th>ZSBMI</th>\n",
       "      <th>LOGAGE</th>\n",
       "      <th>mmc</th>\n",
       "      <th>smoker_label</th>\n",
       "    </tr>\n",
       "  </thead>\n",
       "  <tbody>\n",
       "    <tr>\n",
       "      <th>0</th>\n",
       "      <td>23</td>\n",
       "      <td>M</td>\n",
       "      <td>31.900</td>\n",
       "      <td>157</td>\n",
       "      <td>0</td>\n",
       "      <td>southwest</td>\n",
       "      <td>smoker</td>\n",
       "      <td>16884.92400</td>\n",
       "      <td>0.396989</td>\n",
       "      <td>0.050142</td>\n",
       "      <td>3.135494</td>\n",
       "      <td>0.251611</td>\n",
       "      <td>1</td>\n",
       "    </tr>\n",
       "    <tr>\n",
       "      <th>1</th>\n",
       "      <td>20</td>\n",
       "      <td>F</td>\n",
       "      <td>36.770</td>\n",
       "      <td>160</td>\n",
       "      <td>1</td>\n",
       "      <td>southeast</td>\n",
       "      <td>non-smoker</td>\n",
       "      <td>1725.55230</td>\n",
       "      <td>0.513384</td>\n",
       "      <td>0.816583</td>\n",
       "      <td>2.995732</td>\n",
       "      <td>0.009636</td>\n",
       "      <td>0</td>\n",
       "    </tr>\n",
       "    <tr>\n",
       "      <th>2</th>\n",
       "      <td>33</td>\n",
       "      <td>F</td>\n",
       "      <td>35.000</td>\n",
       "      <td>145</td>\n",
       "      <td>3</td>\n",
       "      <td>southeast</td>\n",
       "      <td>non-smoker</td>\n",
       "      <td>4449.46200</td>\n",
       "      <td>0.471080</td>\n",
       "      <td>0.538020</td>\n",
       "      <td>3.496508</td>\n",
       "      <td>0.053115</td>\n",
       "      <td>0</td>\n",
       "    </tr>\n",
       "    <tr>\n",
       "      <th>3</th>\n",
       "      <td>37</td>\n",
       "      <td>F</td>\n",
       "      <td>23.705</td>\n",
       "      <td>153</td>\n",
       "      <td>0</td>\n",
       "      <td>northwest</td>\n",
       "      <td>non-smoker</td>\n",
       "      <td>21984.47061</td>\n",
       "      <td>0.201123</td>\n",
       "      <td>-1.239588</td>\n",
       "      <td>3.610918</td>\n",
       "      <td>0.333010</td>\n",
       "      <td>0</td>\n",
       "    </tr>\n",
       "    <tr>\n",
       "      <th>4</th>\n",
       "      <td>36</td>\n",
       "      <td>F</td>\n",
       "      <td>27.880</td>\n",
       "      <td>156</td>\n",
       "      <td>0</td>\n",
       "      <td>northwest</td>\n",
       "      <td>non-smoker</td>\n",
       "      <td>3866.85520</td>\n",
       "      <td>0.300908</td>\n",
       "      <td>-0.582526</td>\n",
       "      <td>3.583519</td>\n",
       "      <td>0.043816</td>\n",
       "      <td>0</td>\n",
       "    </tr>\n",
       "  </tbody>\n",
       "</table>\n",
       "</div>"
      ],
      "text/plain": [
       "   age gender     bmi  bp   children     region      smoker  medical_cost  \\\n",
       "0   23      M  31.900  157         0  southwest      smoker   16884.92400   \n",
       "1   20      F  36.770  160         1  southeast  non-smoker    1725.55230   \n",
       "2   33      F  35.000  145         3  southeast  non-smoker    4449.46200   \n",
       "3   37      F  23.705  153         0  northwest  non-smoker   21984.47061   \n",
       "4   36      F  27.880  156         0  northwest  non-smoker    3866.85520   \n",
       "\n",
       "      MMBMI     ZSBMI    LOGAGE       mmc  smoker_label  \n",
       "0  0.396989  0.050142  3.135494  0.251611             1  \n",
       "1  0.513384  0.816583  2.995732  0.009636             0  \n",
       "2  0.471080  0.538020  3.496508  0.053115             0  \n",
       "3  0.201123 -1.239588  3.610918  0.333010             0  \n",
       "4  0.300908 -0.582526  3.583519  0.043816             0  "
      ]
     },
     "execution_count": 30,
     "metadata": {},
     "output_type": "execute_result"
    }
   ],
   "source": [
    "hi['smoker_label'] = le.fit_transform(hi['smoker'])\n",
    "hi.head()"
   ]
  },
  {
   "cell_type": "markdown",
   "metadata": {
    "collapsed": true
   },
   "source": [
    "<table align=\"left\">\n",
    "    <tr>\n",
    "        <td width=\"6%\">\n",
    "            <img src=\"question_icon.png\">\n",
    "        </td>\n",
    "        <td>\n",
    "            <div align=\"left\", style=\"font-size:120%\">\n",
    "                <font color=\"#21618C\">\n",
    "                    <b>15. Create a variable which will contain the frequency of an individual's gender</b>\n",
    "                </font>\n",
    "            </div>\n",
    "        </td>\n",
    "    </tr>\n",
    "</table>"
   ]
  },
  {
   "cell_type": "code",
   "execution_count": 32,
   "metadata": {},
   "outputs": [
    {
     "data": {
      "text/html": [
       "<div>\n",
       "<style scoped>\n",
       "    .dataframe tbody tr th:only-of-type {\n",
       "        vertical-align: middle;\n",
       "    }\n",
       "\n",
       "    .dataframe tbody tr th {\n",
       "        vertical-align: top;\n",
       "    }\n",
       "\n",
       "    .dataframe thead th {\n",
       "        text-align: right;\n",
       "    }\n",
       "</style>\n",
       "<table border=\"1\" class=\"dataframe\">\n",
       "  <thead>\n",
       "    <tr style=\"text-align: right;\">\n",
       "      <th></th>\n",
       "      <th>age</th>\n",
       "      <th>gender</th>\n",
       "      <th>bmi</th>\n",
       "      <th>bp</th>\n",
       "      <th>children</th>\n",
       "      <th>region</th>\n",
       "      <th>smoker</th>\n",
       "      <th>medical_cost</th>\n",
       "      <th>MMBMI</th>\n",
       "      <th>ZSBMI</th>\n",
       "      <th>LOGAGE</th>\n",
       "      <th>mmc</th>\n",
       "      <th>smoker_label</th>\n",
       "      <th>fe gender</th>\n",
       "    </tr>\n",
       "  </thead>\n",
       "  <tbody>\n",
       "    <tr>\n",
       "      <th>0</th>\n",
       "      <td>23</td>\n",
       "      <td>M</td>\n",
       "      <td>31.900</td>\n",
       "      <td>157</td>\n",
       "      <td>0</td>\n",
       "      <td>southwest</td>\n",
       "      <td>smoker</td>\n",
       "      <td>16884.92400</td>\n",
       "      <td>0.396989</td>\n",
       "      <td>0.050142</td>\n",
       "      <td>3.135494</td>\n",
       "      <td>0.251611</td>\n",
       "      <td>1</td>\n",
       "      <td>0.494615</td>\n",
       "    </tr>\n",
       "    <tr>\n",
       "      <th>1</th>\n",
       "      <td>20</td>\n",
       "      <td>F</td>\n",
       "      <td>36.770</td>\n",
       "      <td>160</td>\n",
       "      <td>1</td>\n",
       "      <td>southeast</td>\n",
       "      <td>non-smoker</td>\n",
       "      <td>1725.55230</td>\n",
       "      <td>0.513384</td>\n",
       "      <td>0.816583</td>\n",
       "      <td>2.995732</td>\n",
       "      <td>0.009636</td>\n",
       "      <td>0</td>\n",
       "      <td>0.505385</td>\n",
       "    </tr>\n",
       "    <tr>\n",
       "      <th>2</th>\n",
       "      <td>33</td>\n",
       "      <td>F</td>\n",
       "      <td>35.000</td>\n",
       "      <td>145</td>\n",
       "      <td>3</td>\n",
       "      <td>southeast</td>\n",
       "      <td>non-smoker</td>\n",
       "      <td>4449.46200</td>\n",
       "      <td>0.471080</td>\n",
       "      <td>0.538020</td>\n",
       "      <td>3.496508</td>\n",
       "      <td>0.053115</td>\n",
       "      <td>0</td>\n",
       "      <td>0.505385</td>\n",
       "    </tr>\n",
       "    <tr>\n",
       "      <th>3</th>\n",
       "      <td>37</td>\n",
       "      <td>F</td>\n",
       "      <td>23.705</td>\n",
       "      <td>153</td>\n",
       "      <td>0</td>\n",
       "      <td>northwest</td>\n",
       "      <td>non-smoker</td>\n",
       "      <td>21984.47061</td>\n",
       "      <td>0.201123</td>\n",
       "      <td>-1.239588</td>\n",
       "      <td>3.610918</td>\n",
       "      <td>0.333010</td>\n",
       "      <td>0</td>\n",
       "      <td>0.505385</td>\n",
       "    </tr>\n",
       "    <tr>\n",
       "      <th>4</th>\n",
       "      <td>36</td>\n",
       "      <td>F</td>\n",
       "      <td>27.880</td>\n",
       "      <td>156</td>\n",
       "      <td>0</td>\n",
       "      <td>northwest</td>\n",
       "      <td>non-smoker</td>\n",
       "      <td>3866.85520</td>\n",
       "      <td>0.300908</td>\n",
       "      <td>-0.582526</td>\n",
       "      <td>3.583519</td>\n",
       "      <td>0.043816</td>\n",
       "      <td>0</td>\n",
       "      <td>0.505385</td>\n",
       "    </tr>\n",
       "  </tbody>\n",
       "</table>\n",
       "</div>"
      ],
      "text/plain": [
       "   age gender     bmi  bp   children     region      smoker  medical_cost  \\\n",
       "0   23      M  31.900  157         0  southwest      smoker   16884.92400   \n",
       "1   20      F  36.770  160         1  southeast  non-smoker    1725.55230   \n",
       "2   33      F  35.000  145         3  southeast  non-smoker    4449.46200   \n",
       "3   37      F  23.705  153         0  northwest  non-smoker   21984.47061   \n",
       "4   36      F  27.880  156         0  northwest  non-smoker    3866.85520   \n",
       "\n",
       "      MMBMI     ZSBMI    LOGAGE       mmc  smoker_label  fe gender  \n",
       "0  0.396989  0.050142  3.135494  0.251611             1   0.494615  \n",
       "1  0.513384  0.816583  2.995732  0.009636             0   0.505385  \n",
       "2  0.471080  0.538020  3.496508  0.053115             0   0.505385  \n",
       "3  0.201123 -1.239588  3.610918  0.333010             0   0.505385  \n",
       "4  0.300908 -0.582526  3.583519  0.043816             0   0.505385  "
      ]
     },
     "execution_count": 32,
     "metadata": {},
     "output_type": "execute_result"
    }
   ],
   "source": [
    "# import your code here\n",
    "hi['fe gender'] = hi['gender'].map(hi['gender'].value_counts(normalize = True))\n",
    "hi.head()"
   ]
  },
  {
   "cell_type": "markdown",
   "metadata": {
    "collapsed": true
   },
   "source": [
    "<table align=\"left\">\n",
    "    <tr>\n",
    "        <td width=\"6%\">\n",
    "            <img src=\"question_icon.png\">\n",
    "        </td>\n",
    "        <td>\n",
    "            <div align=\"left\", style=\"font-size:120%\">\n",
    "                <font color=\"#21618C\">\n",
    "                    <b>16. Create a variable such that the value '1' indicates that the individual is a smoker and '0' indicates a non-smoker</b>\n",
    "                </font>\n",
    "            </div>\n",
    "        </td>\n",
    "    </tr>\n",
    "</table>"
   ]
  },
  {
   "cell_type": "code",
   "execution_count": 33,
   "metadata": {},
   "outputs": [
    {
     "data": {
      "text/html": [
       "<div>\n",
       "<style scoped>\n",
       "    .dataframe tbody tr th:only-of-type {\n",
       "        vertical-align: middle;\n",
       "    }\n",
       "\n",
       "    .dataframe tbody tr th {\n",
       "        vertical-align: top;\n",
       "    }\n",
       "\n",
       "    .dataframe thead th {\n",
       "        text-align: right;\n",
       "    }\n",
       "</style>\n",
       "<table border=\"1\" class=\"dataframe\">\n",
       "  <thead>\n",
       "    <tr style=\"text-align: right;\">\n",
       "      <th></th>\n",
       "      <th>age</th>\n",
       "      <th>gender</th>\n",
       "      <th>bmi</th>\n",
       "      <th>bp</th>\n",
       "      <th>children</th>\n",
       "      <th>region</th>\n",
       "      <th>smoker</th>\n",
       "      <th>medical_cost</th>\n",
       "      <th>MMBMI</th>\n",
       "      <th>ZSBMI</th>\n",
       "      <th>LOGAGE</th>\n",
       "      <th>mmc</th>\n",
       "      <th>smoker_label</th>\n",
       "      <th>fe gender</th>\n",
       "    </tr>\n",
       "  </thead>\n",
       "  <tbody>\n",
       "    <tr>\n",
       "      <th>0</th>\n",
       "      <td>23</td>\n",
       "      <td>M</td>\n",
       "      <td>31.900</td>\n",
       "      <td>157</td>\n",
       "      <td>0</td>\n",
       "      <td>southwest</td>\n",
       "      <td>smoker</td>\n",
       "      <td>16884.92400</td>\n",
       "      <td>0.396989</td>\n",
       "      <td>0.050142</td>\n",
       "      <td>3.135494</td>\n",
       "      <td>0.251611</td>\n",
       "      <td>1</td>\n",
       "      <td>0.494615</td>\n",
       "    </tr>\n",
       "    <tr>\n",
       "      <th>1</th>\n",
       "      <td>20</td>\n",
       "      <td>F</td>\n",
       "      <td>36.770</td>\n",
       "      <td>160</td>\n",
       "      <td>1</td>\n",
       "      <td>southeast</td>\n",
       "      <td>non-smoker</td>\n",
       "      <td>1725.55230</td>\n",
       "      <td>0.513384</td>\n",
       "      <td>0.816583</td>\n",
       "      <td>2.995732</td>\n",
       "      <td>0.009636</td>\n",
       "      <td>0</td>\n",
       "      <td>0.505385</td>\n",
       "    </tr>\n",
       "    <tr>\n",
       "      <th>2</th>\n",
       "      <td>33</td>\n",
       "      <td>F</td>\n",
       "      <td>35.000</td>\n",
       "      <td>145</td>\n",
       "      <td>3</td>\n",
       "      <td>southeast</td>\n",
       "      <td>non-smoker</td>\n",
       "      <td>4449.46200</td>\n",
       "      <td>0.471080</td>\n",
       "      <td>0.538020</td>\n",
       "      <td>3.496508</td>\n",
       "      <td>0.053115</td>\n",
       "      <td>0</td>\n",
       "      <td>0.505385</td>\n",
       "    </tr>\n",
       "    <tr>\n",
       "      <th>3</th>\n",
       "      <td>37</td>\n",
       "      <td>F</td>\n",
       "      <td>23.705</td>\n",
       "      <td>153</td>\n",
       "      <td>0</td>\n",
       "      <td>northwest</td>\n",
       "      <td>non-smoker</td>\n",
       "      <td>21984.47061</td>\n",
       "      <td>0.201123</td>\n",
       "      <td>-1.239588</td>\n",
       "      <td>3.610918</td>\n",
       "      <td>0.333010</td>\n",
       "      <td>0</td>\n",
       "      <td>0.505385</td>\n",
       "    </tr>\n",
       "    <tr>\n",
       "      <th>4</th>\n",
       "      <td>36</td>\n",
       "      <td>F</td>\n",
       "      <td>27.880</td>\n",
       "      <td>156</td>\n",
       "      <td>0</td>\n",
       "      <td>northwest</td>\n",
       "      <td>non-smoker</td>\n",
       "      <td>3866.85520</td>\n",
       "      <td>0.300908</td>\n",
       "      <td>-0.582526</td>\n",
       "      <td>3.583519</td>\n",
       "      <td>0.043816</td>\n",
       "      <td>0</td>\n",
       "      <td>0.505385</td>\n",
       "    </tr>\n",
       "  </tbody>\n",
       "</table>\n",
       "</div>"
      ],
      "text/plain": [
       "   age gender     bmi  bp   children     region      smoker  medical_cost  \\\n",
       "0   23      M  31.900  157         0  southwest      smoker   16884.92400   \n",
       "1   20      F  36.770  160         1  southeast  non-smoker    1725.55230   \n",
       "2   33      F  35.000  145         3  southeast  non-smoker    4449.46200   \n",
       "3   37      F  23.705  153         0  northwest  non-smoker   21984.47061   \n",
       "4   36      F  27.880  156         0  northwest  non-smoker    3866.85520   \n",
       "\n",
       "      MMBMI     ZSBMI    LOGAGE       mmc  smoker_label  fe gender  \n",
       "0  0.396989  0.050142  3.135494  0.251611             1   0.494615  \n",
       "1  0.513384  0.816583  2.995732  0.009636             0   0.505385  \n",
       "2  0.471080  0.538020  3.496508  0.053115             0   0.505385  \n",
       "3  0.201123 -1.239588  3.610918  0.333010             0   0.505385  \n",
       "4  0.300908 -0.582526  3.583519  0.043816             0   0.505385  "
      ]
     },
     "execution_count": 33,
     "metadata": {},
     "output_type": "execute_result"
    }
   ],
   "source": [
    "# import your code here\n",
    "hi.head()"
   ]
  },
  {
   "cell_type": "markdown",
   "metadata": {},
   "source": [
    "<a id=\"norm\"> </a>\n",
    "## 4. Normalization"
   ]
  },
  {
   "cell_type": "markdown",
   "metadata": {
    "collapsed": true
   },
   "source": [
    "<table align=\"left\">\n",
    "    <tr>\n",
    "        <td width=\"6%\">\n",
    "            <img src=\"question_icon.png\">\n",
    "        </td>\n",
    "        <td>\n",
    "            <div align=\"left\", style=\"font-size:120%\">\n",
    "                <font color=\"#21618C\">\n",
    "                    <b>17. Transform BMI such that it will have mean zero and variance one</b>\n",
    "                </font>\n",
    "            </div>\n",
    "        </td>\n",
    "    </tr>\n",
    "</table>"
   ]
  },
  {
   "cell_type": "code",
   "execution_count": 21,
   "metadata": {},
   "outputs": [
    {
     "name": "stdout",
     "output_type": "stream",
     "text": [
      "The maean of BMI before Normalization is:  31.581396153846132\n",
      "The variance of BMI before Normalization is:  40.40492851499686\n",
      "The mean of BMI after normalization using MinMaxScaler to get it as 0 is:  0.3893737130460362\n",
      "The mean of BMI after normalization using Zscore to get it as 1 is:  1.0000000000000002\n"
     ]
    },
    {
     "data": {
      "text/html": [
       "<div>\n",
       "<style scoped>\n",
       "    .dataframe tbody tr th:only-of-type {\n",
       "        vertical-align: middle;\n",
       "    }\n",
       "\n",
       "    .dataframe tbody tr th {\n",
       "        vertical-align: top;\n",
       "    }\n",
       "\n",
       "    .dataframe thead th {\n",
       "        text-align: right;\n",
       "    }\n",
       "</style>\n",
       "<table border=\"1\" class=\"dataframe\">\n",
       "  <thead>\n",
       "    <tr style=\"text-align: right;\">\n",
       "      <th></th>\n",
       "      <th>age</th>\n",
       "      <th>gender</th>\n",
       "      <th>bmi</th>\n",
       "      <th>bp</th>\n",
       "      <th>children</th>\n",
       "      <th>region</th>\n",
       "      <th>smoker</th>\n",
       "      <th>medical_cost</th>\n",
       "      <th>MMBMI</th>\n",
       "      <th>ZSBMI</th>\n",
       "    </tr>\n",
       "  </thead>\n",
       "  <tbody>\n",
       "    <tr>\n",
       "      <th>0</th>\n",
       "      <td>23</td>\n",
       "      <td>M</td>\n",
       "      <td>31.900</td>\n",
       "      <td>157</td>\n",
       "      <td>0</td>\n",
       "      <td>southwest</td>\n",
       "      <td>smoker</td>\n",
       "      <td>16884.92400</td>\n",
       "      <td>0.396989</td>\n",
       "      <td>0.050142</td>\n",
       "    </tr>\n",
       "    <tr>\n",
       "      <th>1</th>\n",
       "      <td>20</td>\n",
       "      <td>F</td>\n",
       "      <td>36.770</td>\n",
       "      <td>160</td>\n",
       "      <td>1</td>\n",
       "      <td>southeast</td>\n",
       "      <td>non-smoker</td>\n",
       "      <td>1725.55230</td>\n",
       "      <td>0.513384</td>\n",
       "      <td>0.816583</td>\n",
       "    </tr>\n",
       "    <tr>\n",
       "      <th>2</th>\n",
       "      <td>33</td>\n",
       "      <td>F</td>\n",
       "      <td>35.000</td>\n",
       "      <td>145</td>\n",
       "      <td>3</td>\n",
       "      <td>southeast</td>\n",
       "      <td>non-smoker</td>\n",
       "      <td>4449.46200</td>\n",
       "      <td>0.471080</td>\n",
       "      <td>0.538020</td>\n",
       "    </tr>\n",
       "    <tr>\n",
       "      <th>3</th>\n",
       "      <td>37</td>\n",
       "      <td>F</td>\n",
       "      <td>23.705</td>\n",
       "      <td>153</td>\n",
       "      <td>0</td>\n",
       "      <td>northwest</td>\n",
       "      <td>non-smoker</td>\n",
       "      <td>21984.47061</td>\n",
       "      <td>0.201123</td>\n",
       "      <td>-1.239588</td>\n",
       "    </tr>\n",
       "    <tr>\n",
       "      <th>4</th>\n",
       "      <td>36</td>\n",
       "      <td>F</td>\n",
       "      <td>27.880</td>\n",
       "      <td>156</td>\n",
       "      <td>0</td>\n",
       "      <td>northwest</td>\n",
       "      <td>non-smoker</td>\n",
       "      <td>3866.85520</td>\n",
       "      <td>0.300908</td>\n",
       "      <td>-0.582526</td>\n",
       "    </tr>\n",
       "  </tbody>\n",
       "</table>\n",
       "</div>"
      ],
      "text/plain": [
       "   age gender     bmi  bp   children     region      smoker  medical_cost  \\\n",
       "0   23      M  31.900  157         0  southwest      smoker   16884.92400   \n",
       "1   20      F  36.770  160         1  southeast  non-smoker    1725.55230   \n",
       "2   33      F  35.000  145         3  southeast  non-smoker    4449.46200   \n",
       "3   37      F  23.705  153         0  northwest  non-smoker   21984.47061   \n",
       "4   36      F  27.880  156         0  northwest  non-smoker    3866.85520   \n",
       "\n",
       "      MMBMI     ZSBMI  \n",
       "0  0.396989  0.050142  \n",
       "1  0.513384  0.816583  \n",
       "2  0.471080  0.538020  \n",
       "3  0.201123 -1.239588  \n",
       "4  0.300908 -0.582526  "
      ]
     },
     "execution_count": 21,
     "metadata": {},
     "output_type": "execute_result"
    }
   ],
   "source": [
    "# import your code here\n",
    "mm = MinMaxScaler()\n",
    "print('The maean of BMI before Normalization is: ',hi['bmi'].mean())\n",
    "print('The variance of BMI before Normalization is: ',hi['bmi'].var())\n",
    "print('The mean of BMI after normalization using MinMaxScaler to get it as 0 is: ',mm.fit_transform(hi[['bmi']]).mean())\n",
    "print('The mean of BMI after normalization using Zscore to get it as 1 is: ',zscore(hi['bmi']).var())\n",
    "hi['MMBMI'] = mm.fit_transform(hi[['bmi']])\n",
    "hi['ZSBMI'] = zscore(hi['bmi'])\n",
    "hi.head()"
   ]
  },
  {
   "cell_type": "markdown",
   "metadata": {
    "collapsed": true
   },
   "source": [
    "<table align=\"left\">\n",
    "    <tr>\n",
    "        <td width=\"6%\">\n",
    "            <img src=\"question_icon.png\">\n",
    "        </td>\n",
    "        <td>\n",
    "            <div align=\"left\", style=\"font-size:120%\">\n",
    "                <font color=\"#21618C\">\n",
    "                    <b>18. Check the range of 'age' and transform the values such that the range will be 1</b>\n",
    "                </font>\n",
    "            </div>\n",
    "        </td>\n",
    "    </tr>\n",
    "</table>"
   ]
  },
  {
   "cell_type": "code",
   "execution_count": 22,
   "metadata": {},
   "outputs": [
    {
     "name": "stdout",
     "output_type": "stream",
     "text": [
      "The range of age is :  50\n",
      "The range of age after transformation will be :  1.2896675254308194\n"
     ]
    },
    {
     "data": {
      "text/html": [
       "<div>\n",
       "<style scoped>\n",
       "    .dataframe tbody tr th:only-of-type {\n",
       "        vertical-align: middle;\n",
       "    }\n",
       "\n",
       "    .dataframe tbody tr th {\n",
       "        vertical-align: top;\n",
       "    }\n",
       "\n",
       "    .dataframe thead th {\n",
       "        text-align: right;\n",
       "    }\n",
       "</style>\n",
       "<table border=\"1\" class=\"dataframe\">\n",
       "  <thead>\n",
       "    <tr style=\"text-align: right;\">\n",
       "      <th></th>\n",
       "      <th>age</th>\n",
       "      <th>gender</th>\n",
       "      <th>bmi</th>\n",
       "      <th>bp</th>\n",
       "      <th>children</th>\n",
       "      <th>region</th>\n",
       "      <th>smoker</th>\n",
       "      <th>medical_cost</th>\n",
       "      <th>MMBMI</th>\n",
       "      <th>ZSBMI</th>\n",
       "      <th>LOGAGE</th>\n",
       "    </tr>\n",
       "  </thead>\n",
       "  <tbody>\n",
       "    <tr>\n",
       "      <th>0</th>\n",
       "      <td>23</td>\n",
       "      <td>M</td>\n",
       "      <td>31.900</td>\n",
       "      <td>157</td>\n",
       "      <td>0</td>\n",
       "      <td>southwest</td>\n",
       "      <td>smoker</td>\n",
       "      <td>16884.92400</td>\n",
       "      <td>0.396989</td>\n",
       "      <td>0.050142</td>\n",
       "      <td>3.135494</td>\n",
       "    </tr>\n",
       "    <tr>\n",
       "      <th>1</th>\n",
       "      <td>20</td>\n",
       "      <td>F</td>\n",
       "      <td>36.770</td>\n",
       "      <td>160</td>\n",
       "      <td>1</td>\n",
       "      <td>southeast</td>\n",
       "      <td>non-smoker</td>\n",
       "      <td>1725.55230</td>\n",
       "      <td>0.513384</td>\n",
       "      <td>0.816583</td>\n",
       "      <td>2.995732</td>\n",
       "    </tr>\n",
       "    <tr>\n",
       "      <th>2</th>\n",
       "      <td>33</td>\n",
       "      <td>F</td>\n",
       "      <td>35.000</td>\n",
       "      <td>145</td>\n",
       "      <td>3</td>\n",
       "      <td>southeast</td>\n",
       "      <td>non-smoker</td>\n",
       "      <td>4449.46200</td>\n",
       "      <td>0.471080</td>\n",
       "      <td>0.538020</td>\n",
       "      <td>3.496508</td>\n",
       "    </tr>\n",
       "    <tr>\n",
       "      <th>3</th>\n",
       "      <td>37</td>\n",
       "      <td>F</td>\n",
       "      <td>23.705</td>\n",
       "      <td>153</td>\n",
       "      <td>0</td>\n",
       "      <td>northwest</td>\n",
       "      <td>non-smoker</td>\n",
       "      <td>21984.47061</td>\n",
       "      <td>0.201123</td>\n",
       "      <td>-1.239588</td>\n",
       "      <td>3.610918</td>\n",
       "    </tr>\n",
       "    <tr>\n",
       "      <th>4</th>\n",
       "      <td>36</td>\n",
       "      <td>F</td>\n",
       "      <td>27.880</td>\n",
       "      <td>156</td>\n",
       "      <td>0</td>\n",
       "      <td>northwest</td>\n",
       "      <td>non-smoker</td>\n",
       "      <td>3866.85520</td>\n",
       "      <td>0.300908</td>\n",
       "      <td>-0.582526</td>\n",
       "      <td>3.583519</td>\n",
       "    </tr>\n",
       "  </tbody>\n",
       "</table>\n",
       "</div>"
      ],
      "text/plain": [
       "   age gender     bmi  bp   children     region      smoker  medical_cost  \\\n",
       "0   23      M  31.900  157         0  southwest      smoker   16884.92400   \n",
       "1   20      F  36.770  160         1  southeast  non-smoker    1725.55230   \n",
       "2   33      F  35.000  145         3  southeast  non-smoker    4449.46200   \n",
       "3   37      F  23.705  153         0  northwest  non-smoker   21984.47061   \n",
       "4   36      F  27.880  156         0  northwest  non-smoker    3866.85520   \n",
       "\n",
       "      MMBMI     ZSBMI    LOGAGE  \n",
       "0  0.396989  0.050142  3.135494  \n",
       "1  0.513384  0.816583  2.995732  \n",
       "2  0.471080  0.538020  3.496508  \n",
       "3  0.201123 -1.239588  3.610918  \n",
       "4  0.300908 -0.582526  3.583519  "
      ]
     },
     "execution_count": 22,
     "metadata": {},
     "output_type": "execute_result"
    }
   ],
   "source": [
    "# import your code here\n",
    "a = hi['age'].max()\n",
    "b = hi['age'].min()\n",
    "print('The range of age is : ',a - b)\n",
    "c = np.log(hi['age'].max())\n",
    "d = np.log(hi['age'].min())\n",
    "print('The range of age after transformation will be : ', c - d)\n",
    "hi['LOGAGE'] = np.log(hi['age'])\n",
    "hi.head()"
   ]
  },
  {
   "cell_type": "markdown",
   "metadata": {},
   "source": [
    "<a id=\"trans\"> </a>\n",
    "## 5. Transformation Techniques"
   ]
  },
  {
   "cell_type": "markdown",
   "metadata": {
    "collapsed": true
   },
   "source": [
    "<table align=\"left\">\n",
    "    <tr>\n",
    "        <td width=\"6%\">\n",
    "            <img src=\"question_icon.png\">\n",
    "        </td>\n",
    "        <td>\n",
    "            <div align=\"left\", style=\"font-size:120%\">\n",
    "                <font color=\"#21618C\">\n",
    "                    <b>19. Check the skewness for 'medical_cost'. If the data is skewed, then use the appropriate technique to reduce the skewness in the data\n",
    "</b>\n",
    "                </font>\n",
    "            </div>\n",
    "        </td>\n",
    "    </tr>\n",
    "</table>"
   ]
  },
  {
   "cell_type": "code",
   "execution_count": 23,
   "metadata": {},
   "outputs": [
    {
     "data": {
      "text/plain": [
       "1.5341854555059418"
      ]
     },
     "execution_count": 23,
     "metadata": {},
     "output_type": "execute_result"
    }
   ],
   "source": [
    "# import your code here\n",
    "hi['medical_cost'].skew()\n",
    "hi['mmc'] = mm.fit_transform(hi[['medical_cost']])\n",
    "hi['mmc'].skew()"
   ]
  },
  {
   "cell_type": "markdown",
   "metadata": {
    "collapsed": true
   },
   "source": [
    "<table align=\"left\">\n",
    "    <tr>\n",
    "        <td width=\"6%\">\n",
    "            <img src=\"question_icon.png\">\n",
    "        </td>\n",
    "        <td>\n",
    "            <div align=\"left\", style=\"font-size:120%\">\n",
    "                <font color=\"#21618C\">\n",
    "                    <b>20. Transform the 'log_medical_cost' values to the original scale and compare the 'medical_cost' and the transformed data</b>\n",
    "                </font>\n",
    "            </div>\n",
    "\n",
    "</td>\n",
    "    </tr>\n",
    "</table>"
   ]
  },
  {
   "cell_type": "code",
   "execution_count": 14,
   "metadata": {},
   "outputs": [],
   "source": [
    "# import your code here\n",
    "hi['log_medical_cost'] = np.log(hi['medical_cost'])"
   ]
  },
  {
   "cell_type": "code",
   "execution_count": 17,
   "metadata": {},
   "outputs": [
    {
     "name": "stdout",
     "output_type": "stream",
     "text": [
      "SKEWNESS\n",
      "medical cost:  1.5341854555059413\n",
      "log medical cost:  -0.09331493541417475\n",
      "KURT\n",
      "medical cost:  1.69050631655736\n",
      "log medical cost:  -0.6152680602338227\n",
      "MEAN\n",
      "medical cost:  13243.214690660765\n",
      "log medical cost:  9.100268505200694\n",
      "MEDIAN\n",
      "medical cost:  9.1472677936443\n",
      "log medical cost:  9.1472677936443\n",
      "STANDARD DEVIATION\n",
      "medical cost:  0.9148304286020954\n",
      "log medical cost:  0.9148304286020954\n"
     ]
    }
   ],
   "source": [
    "print(\"SKEWNESS\")\n",
    "print('medical cost: ',hi['medical_cost'].skew())\n",
    "print('log medical cost: ',hi['log_medical_cost'].skew())\n",
    "print(\"KURT\")\n",
    "print('medical cost: ',hi['medical_cost'].kurt())\n",
    "print('log medical cost: ',hi['log_medical_cost'].kurt())\n",
    "print(\"MEAN\")\n",
    "print('medical cost: ',hi['medical_cost'].mean())\n",
    "print('log medical cost: ',hi['log_medical_cost'].mean())\n",
    "print(\"MEDIAN\")\n",
    "print('medical cost: ',hi['log_medical_cost'].median())\n",
    "print('log medical cost: ',hi['log_medical_cost'].median())\n",
    "print(\"STANDARD DEVIATION\")\n",
    "print('medical cost: ',hi['log_medical_cost'].std())\n",
    "print('log medical cost: ',hi['log_medical_cost'].std())"
   ]
  },
  {
   "cell_type": "code",
   "execution_count": null,
   "metadata": {},
   "outputs": [],
   "source": []
  }
 ],
 "metadata": {
  "kernelspec": {
   "display_name": "Python 3",
   "language": "python",
   "name": "python3"
  },
  "language_info": {
   "codemirror_mode": {
    "name": "ipython",
    "version": 3
   },
   "file_extension": ".py",
   "mimetype": "text/x-python",
   "name": "python",
   "nbconvert_exporter": "python",
   "pygments_lexer": "ipython3",
   "version": "3.7.6"
  }
 },
 "nbformat": 4,
 "nbformat_minor": 2
}
